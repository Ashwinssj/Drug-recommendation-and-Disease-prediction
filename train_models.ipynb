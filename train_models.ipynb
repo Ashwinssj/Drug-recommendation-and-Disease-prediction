{
 "cells": [
  {
   "cell_type": "markdown",
   "id": "eabdc9f7",
   "metadata": {},
   "source": [
    "# Disease Prediction Model Training\n",
    "\n",
    "This notebook trains several machine learning models to predict diseases based on symptoms."
   ]
  },
  {
   "cell_type": "code",
   "execution_count": null,
   "id": "f38a2e5b",
   "metadata": {},
   "outputs": [],
   "source": [
    "import pandas as pd\n",
    "import numpy as np\n",
    "import pickle\n",
    "import os\n",
    "from sklearn.model_selection import train_test_split\n",
    "from sklearn.ensemble import RandomForestClassifier\n",
    "from sklearn.naive_bayes import GaussianNB\n",
    "from sklearn.svm import SVC\n",
    "from sklearn.neighbors import KNeighborsClassifier\n",
    "from sklearn.neural_network import MLPClassifier\n",
    "from sklearn.metrics import accuracy_score"
   ]
  },
  {
   "cell_type": "markdown",
   "id": "791e95d4",
   "metadata": {},
   "source": [
    "## Create a directory to save models"
   ]
  },
  {
   "cell_type": "code",
   "execution_count": null,
   "id": "c45899b9",
   "metadata": {},
   "outputs": [],
   "source": [
    "# Create a directory to save models\n",
    "if not os.path.exists('models'):\n",
    "    os.makedirs('models')"
   ]
  },
  {
   "cell_type": "markdown",
   "id": "9a21d66f",
   "metadata": {},
   "source": [
    "## Generate Sample Data\n",
    "\n",
    "In a real scenario, you would load your dataset."
   ]
  },
  {
   "cell_type": "code",
   "execution_count": null,
   "id": "26fed568",
   "metadata": {},
   "outputs": [],
   "source": [
    "def generate_sample_data():\n",
    "    symptoms = [\n",
    "        \"fever\", \"cough\", \"fatigue\", \"shortness of breath\", \"headache\",\n",
    "        \"sore throat\", \"body aches\", \"runny nose\", \"nausea\", \"vomiting\",\n",
    "        \"diarrhea\", \"chest pain\", \"abdominal pain\", \"rash\", \"joint pain\",\n",
    "        \"dizziness\", \"chills\", \"loss of appetite\", \"weight loss\", \"swelling\"\n",
    "    ]\n",
    "    diseases = [\n",
    "        \"Common Cold\", \"Influenza\", \"COVID-19\", \"Pneumonia\", \"Bronchitis\",\n",
    "        \"Sinusitis\", \"Gastroenteritis\", \"Migraine\", \"Hypertension\", \"Diabetes\"\n",
    "    ]\n",
    "    num_samples = 1000\n",
    "    data = []\n",
    "    for _ in range(num_samples):\n",
    "        disease = np.random.choice(diseases)\n",
    "        symptom_values = np.zeros(len(symptoms))\n",
    "        if disease == \"Common Cold\":\n",
    "            symptom_values[symptoms.index(\"fever\")] = np.random.choice([0, 1], p=[0.5, 0.5])\n",
    "            symptom_values[symptoms.index(\"cough\")] = np.random.choice([0, 1], p=[0.2, 0.8])\n",
    "            symptom_values[symptoms.index(\"runny nose\")] = np.random.choice([0, 1], p=[0.1, 0.9])\n",
    "            symptom_values[symptoms.index(\"sore throat\")] = np.random.choice([0, 1], p=[0.3, 0.7])\n",
    "        elif disease == \"Influenza\":\n",
    "            symptom_values[symptoms.index(\"fever\")] = np.random.choice([0, 1], p=[0.1, 0.9])\n",
    "            symptom_values[symptoms.index(\"cough\")] = np.random.choice([0, 1], p=[0.2, 0.8])\n",
    "            symptom_values[symptoms.index(\"body aches\")] = np.random.choice([0, 1], p=[0.2, 0.8])\n",
    "            symptom_values[symptoms.index(\"fatigue\")] = np.random.choice([0, 1], p=[0.1, 0.9])\n",
    "        random_symptoms = np.random.choice(range(len(symptoms)), size=np.random.randint(0, 3), replace=False)\n",
    "        for idx in random_symptoms:\n",
    "            symptom_values[idx] = 1\n",
    "        row = list(symptom_values) + [disease]\n",
    "        data.append(row)\n",
    "    columns = symptoms + [\"disease\"]\n",
    "    df = pd.DataFrame(data, columns=columns)\n",
    "    return df"
   ]
  },
  {
   "cell_type": "markdown",
   "id": "512f007c",
   "metadata": {},
   "source": [
    "## Load or Generate Data"
   ]
  },
  {
   "cell_type": "code",
   "execution_count": null,
   "id": "93808b05",
   "metadata": {},
   "outputs": [],
   "source": [
    "print(\"Generating sample data...\")\n",
    "df = generate_sample_data()"
   ]
  },
  {
   "cell_type": "markdown",
   "id": "2f397606",
   "metadata": {},
   "source": [
    "## Prepare Features and Target"
   ]
  },
  {
   "cell_type": "code",
   "execution_count": null,
   "id": "b1b7119d",
   "metadata": {},
   "outputs": [],
   "source": [
    "X = df.drop('disease', axis=1)\n",
    "y = df['disease']"
   ]
  },
  {
   "cell_type": "markdown",
   "id": "bd909b2d",
   "metadata": {},
   "source": [
    "## Split Data"
   ]
  },
  {
   "cell_type": "code",
   "execution_count": null,
   "id": "fa21ec38",
   "metadata": {},
   "outputs": [],
   "source": [
    "X_train, X_test, y_train, y_test = train_test_split(X, y, test_size=0.2, random_state=42)"
   ]
  },
  {
   "cell_type": "markdown",
   "id": "813dabb5",
   "metadata": {},
   "source": [
    "## Define Models to Train"
   ]
  },
  {
   "cell_type": "code",
   "execution_count": null,
   "id": "f8d69d64",
   "metadata": {},
   "outputs": [],
   "source": [
    "models = {\n",
    "    'RandomForest': RandomForestClassifier(n_estimators=100, random_state=42),\n",
    "    'NaiveBayes': GaussianNB(),\n",
    "    'SVM': SVC(probability=True, random_state=42),\n",
    "    'KNN': KNeighborsClassifier(n_neighbors=5),\n",
    "    'NeuralNetwork': MLPClassifier(hidden_layer_sizes=(100,), max_iter=500, random_state=42)\n",
    "}"
   ]
  },
  {
   "cell_type": "markdown",
   "id": "56c62859",
   "metadata": {},
   "source": [
    "## Train and Save Models"
   ]
  },
  {
   "cell_type": "code",
   "execution_count": null,
   "id": "b7a02cc8",
   "metadata": {},
   "outputs": [],
   "source": [
    "for name, model in models.items():\n",
    "    print(f\"Training {name}...\")\n",
    "    model.fit(X_train, y_train)\n",
    "    y_pred = model.predict(X_test)\n",
    "    accuracy = accuracy_score(y_test, y_pred)\n",
    "    print(f\"{name} Accuracy: {accuracy:.4f}\")\n",
    "    with open(f'models/{name}.pkl', 'wb') as f:\n",
    "        pickle.dump(model, f)\n",
    "    print(f\"{name} model saved.\")"
   ]
  },
  {
   "cell_type": "markdown",
   "id": "35028920",
   "metadata": {},
   "source": [
    "## Save the Symptom List for Reference"
   ]
  },
  {
   "cell_type": "code",
   "execution_count": null,
   "id": "2c0e51e0",
   "metadata": {},
   "outputs": [],
   "source": [
    "with open('models/symptoms.pkl', 'wb') as f:\n",
    "    pickle.dump(list(X.columns), f)\n",
    "print(\"Symptom list saved.\")"
   ]
  }
 ],
 "metadata": {
  "kernelspec": {
   "display_name": "Python 3",
   "language": "python",
   "name": "python3"
  },
  "language_info": {
   "codemirror_mode": {
    "name": "ipython",
    "version": 3
   },
   "file_extension": ".py",
   "mimetype": "text/x-python",
   "name": "python",
   "nbconvert_exporter": "python",
   "pygments_lexer": "ipython3",
   "version": "3.8.5"
  }
 },
 "nbformat": 4,
 "nbformat_minor": 5
}
